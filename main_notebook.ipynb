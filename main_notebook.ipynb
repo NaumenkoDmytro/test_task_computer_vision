{
 "cells": [
  {
   "cell_type": "code",
   "execution_count": 1,
   "metadata": {
    "scrolled": true
   },
   "outputs": [
    {
     "name": "stderr",
     "output_type": "stream",
     "text": [
      "Using TensorFlow backend.\n"
     ]
    }
   ],
   "source": [
    "import os\n",
    "\n",
    "import numpy as np\n",
    "import pandas as pd\n",
    "import scipy\n",
    "\n",
    "import matplotlib.pyplot as plt\n",
    "import seaborn as sns\n",
    "\n",
    "from skimage.io import imread\n",
    "from skimage.segmentation import mark_boundaries\n",
    "from skimage.morphology import label, binary_opening, disk\n",
    "\n",
    "from sklearn.model_selection import train_test_split\n",
    "from PIL import Image\n",
    "\n",
    "import gc\n",
    "import datetime\n",
    "\n",
    "\n",
    "gc.enable()\n",
    "\n",
    "import keras.backend as K\n",
    "\n",
    "from keras.layers import *\n",
    "\n",
    "from keras.models import load_model, Model\n",
    "from keras.optimizers import Adam\n",
    "from keras.callbacks import ModelCheckpoint, LearningRateScheduler, EarlyStopping, ReduceLROnPlateau\n",
    "from keras.preprocessing.image import ImageDataGenerator\n",
    "from keras.losses import binary_crossentropy"
   ]
  },
  {
   "cell_type": "code",
   "execution_count": 139,
   "metadata": {},
   "outputs": [],
   "source": [
    "image_path = 'image_data/train_v2/'\n",
    "test_image = 'image_data/test_v2/'\n",
    "\n",
    "csv_dataset = 'csv_data/train_ship.csv'\n",
    "\n",
    "exclude_list = ['6384c3e78.jpg', ] # destroyed images\n",
    "original_img_size = (768, 768) # image shape\n",
    "\n",
    "LR = 0.0001 # learning rate\n",
    "\n",
    "BATCH_SIZE = 16 # batch size\n",
    "\n",
    "# maximum number of steps_per_epoch in training\n",
    "MAX_TRAIN_STEPS = 1200\n",
    "MAX_TRAIN_EPOCHS = 3\n",
    "\n",
    "weight_path=\"{}_weights.hdf5\".format('seg_model')"
   ]
  },
  {
   "cell_type": "code",
   "execution_count": 140,
   "metadata": {},
   "outputs": [],
   "source": [
    "df = pd.read_csv(csv_dataset)\n",
    "\n",
    "df = df[~df['ImageId'].isin(exclude_list)] #deleting desroyed files\n",
    "df['ships'] = df.groupby(['ImageId'])['ImageId'].transform('count') # counting of ships for each image_file\n",
    "df.loc[df['EncodedPixels'].isnull().values,'ships'] = 0 # nullable missing data\n",
    "\n",
    "# calculation of files' sizes\n",
    "df['file_size_kb'] = df['ImageId'].map(lambda image: \n",
    "                                       os.stat(os.path.join(image_path, image)).st_size/1024\n",
    "                                       \n",
    "df = df[df['file_size_kb'] > 60] # filtering by file_size"
   ]
  },
  {
   "cell_type": "code",
   "execution_count": 141,
   "metadata": {},
   "outputs": [],
   "source": [
    "\"\"\"\n",
    "Data sampling\n",
    "1: select images with shops and without ships\n",
    "2: add column 'has_ship' for data stratification\n",
    "\"\"\"\n",
    "imgs_w_ships = df[df['ships'] > 0]\n",
    "imgs_wo_ships = df[df['ships'] == 0].sample(23000, random_state=6978)\n",
    "\n",
    "selected_imgs = pd.concat((imgs_w_ships, imgs_wo_ships))\n",
    "\n",
    "selected_imgs['has_ship'] = selected_imgs['ships'] > 0"
   ]
  },
  {
   "cell_type": "code",
   "execution_count": 142,
   "metadata": {},
   "outputs": [
    {
     "data": {
      "text/plain": [
       "Text(0.5, 1.0, 'after proccessing')"
      ]
     },
     "execution_count": 142,
     "metadata": {},
     "output_type": "execute_result"
    },
    {
     "data": {
      "image/png": "[encoded data removed]",
      "text/plain": [
       "<Figure size 1008x432 with 2 Axes>"
      ]
     },
     "metadata": {
      "needs_background": "light"
     },
     "output_type": "display_data"
    }
   ],
   "source": [
    "\"\"\"\n",
    "visualization of data distribution\n",
    "\"\"\"\n",
    "\n",
    "fig, axes = plt.subplots(1, 2, figsize=(14, 6), sharex=True)\n",
    "\n",
    "fig.suptitle('Data distribution by number of ships per image', fontsize=18)\n",
    "\n",
    "sns.distplot(df['ships'], kde=False, color=\"r\", ax=axes[0])\n",
    "sns.distplot(selected_imgs['ships'], kde=False, color=\"b\", ax=axes[1])\n",
    "\n",
    "axes[0].set_title('before proccessing', fontsize=14)\n",
    "axes[1].set_title('after proccessing', fontsize=14)"
   ]
  },
  {
   "cell_type": "code",
   "execution_count": 143,
   "metadata": {},
   "outputs": [],
   "source": [
    "\"\"\"\n",
    "Splitting data into training and validation samples\n",
    "\"\"\"\n",
    "\n",
    "train_imgs, val_imgs = train_test_split(selected_imgs,\n",
    "                                        test_size=0.05,\n",
    "                                        stratify=selected_imgs['has_ship'],\n",
    "                                        random_state=69278)\n",
    "# selecting unique filenames to avoid overfitting\n",
    "train_fnames = np.unique(train_imgs['ImageId'].values)\n",
    "val_fnames = np.unique(val_imgs['ImageId'].values)\n",
    "\n",
    "_, train_fnames = train_test_split(train_fnames, test_size=0.95, random_state=6978)\n",
    "_, val_fnames = train_test_split(val_fnames, test_size=0.95, random_state=6978)"
   ]
  },
  {
   "cell_type": "code",
   "execution_count": 145,
   "metadata": {},
   "outputs": [],
   "source": [
    "reduced_df = selected_imgs[['ImageId', 'EncodedPixels']]\n",
    "\n",
    "train_df = reduced_df[reduced_df['ImageId'].isin(train_fnames)]\n",
    "val_df = reduced_df[reduced_df['ImageId'].isin(val_fnames)]"
   ]
  },
  {
   "cell_type": "code",
   "execution_count": null,
   "metadata": {},
   "outputs": [],
   "source": [
    "del selected_imgsed_imgsed_imgs, df # delete unnececollectct data\n",
    "gc.collect() # freeing up memory"
   ]
  },
  {
   "cell_type": "code",
   "execution_count": 146,
   "metadata": {},
   "outputs": [],
   "source": [
    "def rle_decoder(mask_rle, shape=(768, 768)):\n",
    "    \"\"\"\n",
    "    Function for decoding target image\n",
    "    \"\"\"\n",
    "    s = mask_rle.split()\n",
    "    starts, lengths = [np.asarray(x, dtype=int) for x in (s[0::2], s[1::2])]\n",
    "    starts -= 1\n",
    "    ends = starts + lengths\n",
    "    img = np.zeros(shape[0]*shape[1], dtype=np.uint8)\n",
    "    for lo, hi in zip(starts, ends):\n",
    "        img[lo:hi] = 1\n",
    "    return img.reshape(shape).T\n",
    "\n",
    "def masks2image(in_mask_list):\n",
    "    \"\"\"\n",
    "    Function for creating multi-layers mask\n",
    "    that consist some ships on ine image\n",
    "    \"\"\"\n",
    "    all_masks = np.zeros((768, 768), dtype = np.uint8)\n",
    "    for mask in in_mask_list:\n",
    "        if isinstance(mask, str):\n",
    "            all_masks |= rle_decoder(mask)\n",
    "    return all_masks\n"
   ]
  },
  {
   "cell_type": "code",
   "execution_count": 147,
   "metadata": {},
   "outputs": [],
   "source": [
    "class CustomDataGenerator:\n",
    "    '''\n",
    "    Class CustomDatagenerator\n",
    "    __init__ - constructor for creating a instance of class\n",
    "    __len__ - method for getting size of dataset\n",
    "    batch_creator - method for creating batches\n",
    "    generate - control function that manipulates the distribution of data\n",
    "    '''\n",
    "    def __init__(self, df_x, df_y,\n",
    "                 valid_df=None,\n",
    "                 batch_size=16,\n",
    "                 image_path=None,\n",
    "                 mask2image=None,\n",
    "                 augmentator=None):\n",
    "        \n",
    "        self.df_x = df_x # list of image filenames which will use for training\n",
    "        self.df_y = df_y # dataframe of image filenames and their encoded masks\n",
    "        self.valid_df = valid_df # dataframe of images and their masks\n",
    "        self.batch_size = batch_size # number of samples for one step\n",
    "        self.image_path = image_path # path to train images\n",
    "        self.augmentator = augmentator # image augmentation operations\n",
    "        \n",
    "    def __len__(self):\n",
    "        return int(np.ceil(len(self.df_x) / float(self.batch_size)))\n",
    "    \n",
    "    def batch_creator(self, batch_fname, batch_df):\n",
    "        height, width = original_img_size # take height and width for shape of input\n",
    "        input_images = np.zeros((self.batch_size, height, width, 3))\n",
    "        target_images = np.zeros((self.batch_size, height, width, 1))\n",
    "        for i, img_name in enumerate(batch_fname):\n",
    "            input_images[i, ...] = imread(os.path.join(image_path, img_name))\n",
    "            rle = batch_df[batch_df['ImageId'] == img_name]['EncodedPixels'].values\n",
    "            target_images[i, ...] = np.expand_dims(masks2image(rle), axis = 2)\n",
    "        return (input_images, target_images)\n",
    "    \n",
    "    def generate(self):\n",
    "        np.random.shuffle(self.df_x)\n",
    "        num_of_batches = self.__len__()\n",
    "        for batch in range(num_of_batches):\n",
    "            batch_fname = np.random.choice(self.df_x, self.batch_size)\n",
    "#             print(batch_fname)\n",
    "            batch_df = self.df_y[self.df_y['ImageId'].isin(batch_fname)]\n",
    "            yield self.batch_creator(batch_fname, batch_df)"
   ]
  },
  {
   "cell_type": "code",
   "execution_count": 148,
   "metadata": {},
   "outputs": [],
   "source": [
    "\"\"\"\n",
    "Creating training and validation generators\n",
    "\"\"\"\n",
    "\n",
    "train_gen = CustomDataGenerator(train_fnames, train_df, image_path=image_path, batch_size=BATCH_SIZE)\n",
    "val_gen = CustomDataGenerator(val_fnames, val_df, image_path=image_path, batch_size=BATCH_SIZE)\n",
    "\n",
    "t_gen = train_gen.generate()\n",
    "v_gen = val_gen.generate()"
   ]
  },
  {
   "cell_type": "code",
   "execution_count": 149,
   "metadata": {},
   "outputs": [],
   "source": [
    "# args for keras ImageDataGenerator\n",
    "\n",
    "dg_args = dict(featurewise_center = False, \n",
    "               samplewise_center = False,\n",
    "               rotation_range = 7,\n",
    "               width_shift_range = 0.07,\n",
    "               height_shift_range = 0.07,\n",
    "               shear_range = 0.01,\n",
    "               horizontal_flip = True, \n",
    "               vertical_flip = True,\n",
    "               fill_mode = 'nearest',\n",
    "               data_format = 'channels_last')\n",
    "    \n",
    "image_gen = ImageDataGenerator(**dg_args) # creating instance of ImageDataGenerator\n",
    "\n",
    "def create_aug_gen(in_gen, seed = None):\n",
    "    np.random.seed(seed if seed is not None else np.random.choice(range(9999)))\n",
    "    for in_x, in_y in in_gen:\n",
    "        seed = np.random.choice(range(9999))\n",
    "        # creating augmented generator of input and target data\n",
    "        g_x = image_gen.flow(in_x, \n",
    "                             batch_size = in_x.shape[0], \n",
    "                             seed = seed, \n",
    "                             shuffle=True)\n",
    "        \n",
    "        g_y = image_gen.flow(in_y, \n",
    "                             batch_size = in_x.shape[0], \n",
    "                             seed = seed, \n",
    "                             shuffle=True)\n",
    "        gc.collect()\n",
    "\n",
    "        yield next(g_x)/255.0, next(g_y)"
   ]
  },
  {
   "cell_type": "code",
   "execution_count": 150,
   "metadata": {},
   "outputs": [],
   "source": [
    "\"\"\"\n",
    "Added callbacks for controling proccess of training\n",
    "checkpoint - saves best result of training\n",
    "reduceLROnPlat - reduces learning rate when a metric has stopped improving\n",
    "early - responses for stopping of model when a quality of model has stopped improving\n",
    "\"\"\"\n",
    "\n",
    "checkpoint = ModelCheckpoint(weight_path,\n",
    "                             monitor='val_loss',\n",
    "                             verbose=1,\n",
    "                             save_best_only=True,\n",
    "                             mode='min',\n",
    "                             save_weights_only=True)\n",
    "\n",
    "reduceLROnPlat = ReduceLROnPlateau(monitor='val_loss', factor=0.1,\n",
    "                                   patience=1, verbose=1, mode='min',\n",
    "                                   min_delta=0.0001, cooldown=0, min_lr=1e-8)\n",
    "\n",
    "early = EarlyStopping(monitor=\"val_loss\",\n",
    "                      mode=\"min\",\n",
    "                      verbose=2,\n",
    "                      patience=20)\n",
    "\n",
    "callbacks_list = [checkpoint, reduceLROnPlat, early] # list of callbacks"
   ]
  },
  {
   "cell_type": "code",
   "execution_count": 154,
   "metadata": {},
   "outputs": [],
   "source": [
    "'''\n",
    "Verification of generators for correctness of result\n",
    "'''\n",
    "x, y = next(v_gen)\n",
    "x = x/255.0\n",
    "\n",
    "idx = BATCH_SIZE - 1\n",
    "\n",
    "fig, (ax1, ax2) = plt.subplots(1,2,figsize=(16,6), sharex=True)\n",
    "y2 = y1[:,:,:,0][idx]\n",
    "\n",
    "ax1.imshow(x[idx])\n",
    "ax2.imshow(y2)"
   ]
  },
  {
   "cell_type": "code",
   "execution_count": 157,
   "metadata": {
    "scrolled": true
   },
   "outputs": [
    {
     "name": "stderr",
     "output_type": "stream",
     "text": [
      "/home/ubuntu/.local/lib/python3.7/site-packages/keras/engine/saving.py:292: UserWarning: No training configuration found in save file: the model was *not* compiled. Compile it manually.\n",
      "  warnings.warn('No training configuration found in save file: '\n"
     ]
    }
   ],
   "source": [
    "model = load_model('U-Net.h5') # loading model"
   ]
  },
  {
   "cell_type": "code",
   "execution_count": 158,
   "metadata": {},
   "outputs": [],
   "source": [
    "smooth = 1\n",
    "def dice_score(y_pred, y_target):\n",
    "    # dice score for testing valid accuracy\n",
    "    comm = K.sum(y_pred * y_target)\n",
    "    return (comm * 2.0 + smooth)/(K.sum(y_pred) + K.sum(y_target) + smooth)\n",
    "\n",
    "def bce_dice_loss(y_pred, y_target):\n",
    "    # dice loss metric\n",
    "    return binary_crossentropy(y_target, y_pred) + (1-dice_score(y_pred, y_target))"
   ]
  },
  {
   "cell_type": "code",
   "execution_count": 159,
   "metadata": {},
   "outputs": [],
   "source": [
    "\"\"\"\n",
    "function for training network and then getting logs\n",
    "\"\"\"\n",
    "\n",
    "def fit():\n",
    "    model.compile(optimizer=Adam(1e-3, decay=1e-6), loss=bce_dice_loss, metrics=['binary_accuracy', dice_score])\n",
    "    \n",
    "    step_count = min(MAX_TRAIN_STEPS, train_df.shape[0]//BATCH_SIZE)\n",
    "    aug_gen = create_aug_gen(t_gen)\n",
    "    loss_history = [model.fit_generator(aug_gen,\n",
    "                                        steps_per_epoch=step_count,\n",
    "                                        epochs=MAX_TRAIN_EPOCHS,\n",
    "                                        validation_data=v_gen,\n",
    "                                        validation_steps = 10,\n",
    "                                        callbacks=callbacks_list,\n",
    "                                        )]\n",
    "    return loss_history"
   ]
  },
  {
   "cell_type": "code",
   "execution_count": 160,
   "metadata": {
    "scrolled": true
   },
   "outputs": [
    {
     "name": "stdout",
     "output_type": "stream",
     "text": [
      "Epoch 1/3\n",
      "1200/1200 [==============================] - 4354s 4s/step - loss: 2.0904 - binary_accuracy: 0.9611 - dice_score: 0.1389 - val_loss: 11.5548 - val_binary_accuracy: 0.3448 - val_dice_score: 0.0105\n",
      "\n",
      "Epoch 00001: val_loss improved from inf to 11.55475, saving model to seg_model_weights.hdf5\n",
      "Epoch 2/3\n",
      "1200/1200 [==============================] - 4277s 4s/step - loss: 0.7733 - binary_accuracy: 0.9930 - dice_score: 0.3450 - val_loss: 1.7316 - val_binary_accuracy: 0.9498 - val_dice_score: 0.0799\n",
      "\n",
      "Epoch 00002: val_loss improved from 11.55475 to 1.73159, saving model to seg_model_weights.hdf5\n",
      "Epoch 3/3\n",
      "1200/1200 [==============================] - 4277s 4s/step - loss: 0.7112 - binary_accuracy: 0.9935 - dice_score: 0.3897 - val_loss: 3.2778 - val_binary_accuracy: 0.8564 - val_dice_score: 0.0447\n",
      "\n",
      "Epoch 00003: val_loss did not improve from 1.73159\n",
      "\n",
      "Epoch 00003: ReduceLROnPlateau reducing learning rate to 0.00010000000474974513.\n"
     ]
    }
   ],
   "source": [
    "loss_history = fit()"
   ]
  },
  {
   "cell_type": "code",
   "execution_count": 163,
   "metadata": {},
   "outputs": [],
   "source": [
    "model.save_weights('model.h5')"
   ]
  }
 ],
 "metadata": {
  "kernelspec": {
   "display_name": "Python 3",
   "language": "python",
   "name": "python3"
  },
  "language_info": {
   "codemirror_mode": {
    "name": "ipython",
    "version": 3
   },
   "file_extension": ".py",
   "mimetype": "text/x-python",
   "name": "python",
   "nbconvert_exporter": "python",
   "pygments_lexer": "ipython3",
   "version": "3.7.3"
  }
 },
 "nbformat": 4,
 "nbformat_minor": 2
}
